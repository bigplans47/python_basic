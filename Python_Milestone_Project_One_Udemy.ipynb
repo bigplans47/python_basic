{
 "cells": [
  {
   "cell_type": "code",
   "execution_count": 114,
   "metadata": {},
   "outputs": [
    {
     "name": "stderr",
     "output_type": "stream",
     "text": [
      "<ipython-input-114-3e4f25b7e464>:12: SyntaxWarning: name 'turn' is used prior to global declaration\n",
      "  global turn\n",
      "<ipython-input-114-3e4f25b7e464>:20: SyntaxWarning: name 'the_board' is used prior to global declaration\n",
      "  global the_board\n",
      "<ipython-input-114-3e4f25b7e464>:23: SyntaxWarning: name 'turn' is assigned to before global declaration\n",
      "  global turn\n"
     ]
    },
    {
     "name": "stdout",
     "output_type": "stream",
     "text": [
      "player 1 what array you want? hint 0,1,2: 0\n",
      "player 1 what position you want? hint 0,1,2: 0\n",
      "moving to array 0 to item 0\n",
      "['o', ' ', ' '] \n",
      "[' ', ' ', ' '] \n",
      "[' ', ' ', ' ']\n",
      "1\n",
      "player 2 what array you want? hint 0,1,2: 0\n",
      "player 2 what position you want? hint 0,1,2: 1\n",
      "moving to array 0 to item 1\n",
      "['o', 'x', ' '] \n",
      "[' ', ' ', ' '] \n",
      "[' ', ' ', ' ']\n",
      "2\n",
      "player 1 what array you want? hint 0,1,2: 0\n",
      "player 1 what position you want? hint 0,1,2: 2\n",
      "moving to array 0 to item 2\n",
      "['o', 'x', 'o'] \n",
      "[' ', ' ', ' '] \n",
      "[' ', ' ', ' ']\n",
      "3\n",
      "player 2 what array you want? hint 0,1,2: 1\n",
      "player 2 what position you want? hint 0,1,2: 0\n",
      "moving to array 1 to item 0\n",
      "['o', 'x', 'o'] \n",
      "['x', ' ', ' '] \n",
      "[' ', ' ', ' ']\n",
      "4\n",
      "player 1 what array you want? hint 0,1,2: 1\n",
      "player 1 what position you want? hint 0,1,2: 1\n",
      "moving to array 1 to item 1\n",
      "['o', 'x', 'o'] \n",
      "['x', 'o', ' '] \n",
      "[' ', ' ', ' ']\n",
      "5\n",
      "player 2 what array you want? hint 0,1,2: 1\n",
      "player 2 what position you want? hint 0,1,2: 2\n",
      "moving to array 1 to item 2\n",
      "['o', 'x', 'o'] \n",
      "['x', 'o', 'x'] \n",
      "[' ', ' ', ' ']\n",
      "6\n",
      "player 1 what array you want? hint 0,1,2: 2\n",
      "player 1 what position you want? hint 0,1,2: 0\n",
      "moving to array 2 to item 0\n",
      "['o', 'x', 'o'] \n",
      "['x', 'o', 'x'] \n",
      "['o', ' ', ' ']\n",
      "7\n",
      "player 2 what array you want? hint 0,1,2: 2\n",
      "player 2 what position you want? hint 0,1,2: 1\n",
      "moving to array 2 to item 1\n",
      "['o', 'x', 'o'] \n",
      "['x', 'o', 'x'] \n",
      "['o', 'x', ' ']\n",
      "8\n",
      "player 1 what array you want? hint 0,1,2: 2\n",
      "player 1 what position you want? hint 0,1,2: 2\n",
      "moving to array 2 to item 2\n",
      "['o', 'x', 'o'] \n",
      "['x', 'o', 'x'] \n",
      "['o', 'x', 'o']\n",
      "9\n",
      "over on 9\n"
     ]
    }
   ],
   "source": [
    "the_board = [[' ',' ',' '],[' ',' ',' '],[' ',' ',' ']]\n",
    "# print the_board[0], '\\n', the_board[1], '\\n', the_board[2]\n",
    "turn =0\n",
    "while turn <9:\n",
    "    if turn%2!=0: \n",
    "        move_array = raw_input('player 2 what array you want? hint 0,1,2: ')\n",
    "        move_in_array = raw_input('player 2 what position you want? hint 0,1,2: ')\n",
    "        print 'moving to array %s to item %s' %(move_array, move_in_array)\n",
    "        global the_board\n",
    "        the_board[int(move_array)][int(move_in_array)] ='x'\n",
    "        print the_board[0], '\\n', the_board[1], '\\n', the_board[2]\n",
    "        global turn\n",
    "        turn+=1\n",
    "        print turn\n",
    "    if turn%2==0:\n",
    "    #     move = raw_input('where you want to move? ')    \n",
    "        move_array = raw_input('player 1 what array you want? hint 0,1,2: ')\n",
    "        move_in_array = raw_input('player 1 what position you want? hint 0,1,2: ')\n",
    "        print 'moving to array %s to item %s' %(move_array, move_in_array)\n",
    "        global the_board\n",
    "        the_board[int(move_array)][int(move_in_array)] ='o'\n",
    "        print the_board[0], '\\n', the_board[1], '\\n', the_board[2]\n",
    "        global turn\n",
    "        turn+=1\n",
    "        print turn\n",
    "print 'over on', turn\n",
    "\n",
    "#     print turn"
   ]
  },
  {
   "cell_type": "code",
   "execution_count": null,
   "metadata": {},
   "outputs": [],
   "source": []
  },
  {
   "cell_type": "code",
   "execution_count": null,
   "metadata": {
    "collapsed": true
   },
   "outputs": [],
   "source": []
  }
 ],
 "metadata": {
  "kernelspec": {
   "display_name": "Python 2",
   "language": "python",
   "name": "python2"
  },
  "language_info": {
   "codemirror_mode": {
    "name": "ipython",
    "version": 2
   },
   "file_extension": ".py",
   "mimetype": "text/x-python",
   "name": "python",
   "nbconvert_exporter": "python",
   "pygments_lexer": "ipython2",
   "version": "2.7.14"
  }
 },
 "nbformat": 4,
 "nbformat_minor": 2
}
