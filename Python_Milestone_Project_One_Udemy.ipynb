{
 "cells": [
  {
   "cell_type": "code",
   "execution_count": null,
   "metadata": {},
   "outputs": [
    {
     "name": "stderr",
     "output_type": "stream",
     "text": [
      "<ipython-input-138-a0f0ecaad28f>:13: SyntaxWarning: name 'turn' is used prior to global declaration\n",
      "  global turn\n",
      "<ipython-input-138-a0f0ecaad28f>:20: SyntaxWarning: name 'the_board' is used prior to global declaration\n",
      "  global the_board\n",
      "<ipython-input-138-a0f0ecaad28f>:23: SyntaxWarning: name 'turn' is assigned to before global declaration\n",
      "  global turn\n"
     ]
    },
    {
     "name": "stdout",
     "output_type": "stream",
     "text": [
      "player 1 what array you want? hint 0,1,2: 0\n",
      "player 1 what position you want? hint 0,1,2: 0\n",
      "moving to array 0 to item 0\n",
      " O  |     |     \n",
      "--------------- \n",
      "    |     |     \n",
      "--------------- \n",
      "    |     |    \n",
      "Turn:  1 \n",
      "\n",
      "player 2 what array you want? hint 0,1,2: 2\n",
      "player 2 what position you want? hint 0,1,2: 2\n",
      "moving to array 2 to item 2\n",
      " O  |     |     \n",
      "--------------- \n",
      "    |     |     \n",
      "--------------- \n",
      "    |     |  X \n",
      "Turn:  2 \n",
      "\n"
     ]
    }
   ],
   "source": [
    "the_board = [['   ','   ','   '],['   ','   ','   '],['   ','   ','   ']]\n",
    "# print the_board[0], '\\n', the_board[1], '\\n', the_board[2]\n",
    "turn =0\n",
    "while turn <9:\n",
    "    if turn%2==0:\n",
    "        # move = raw_input('put in array cordinates')\n",
    "        move_array = raw_input('player 1 what array you want? hint 0,1,2: ')\n",
    "        move_in_array = raw_input('player 1 what position you want? hint 0,1,2: ')\n",
    "        print 'moving to array %s to item %s' %(move_array, move_in_array)\n",
    "        global the_board\n",
    "        the_board[int(move_array)][int(move_in_array)] =' O '\n",
    "        print the_board[0][0],'|',the_board[0][1],'|',the_board[0][2], '\\n','---------------', '\\n', the_board[1][0],'|',the_board[1][1],'|',the_board[1][2],'\\n','---------------','\\n', the_board[2][0],'|',the_board[2][1],'|',the_board[2][2]\n",
    "        global turn\n",
    "        turn+=1\n",
    "        print 'Turn: ',turn, '\\n'\n",
    "    if turn%2!=0: \n",
    "        move_array = raw_input('player 2 what array you want? hint 0,1,2: ')\n",
    "        move_in_array = raw_input('player 2 what position you want? hint 0,1,2: ')\n",
    "        print 'moving to array %s to item %s' %(move_array, move_in_array)\n",
    "        global the_board\n",
    "        the_board[int(move_array)][int(move_in_array)] =' X '\n",
    "        print the_board[0][0],'|',the_board[0][1],'|',the_board[0][2], '\\n','---------------', '\\n', the_board[1][0],'|',the_board[1][1],'|',the_board[1][2],  '\\n','---------------','\\n', the_board[2][0],'|',the_board[2][1],'|',the_board[2][2]\n",
    "        global turn\n",
    "        turn+=1\n",
    "        print 'Turn: ',turn, '\\n'\n",
    "print 'Game over, turn', turn,' occured'\n",
    "\n",
    "#     print turn"
   ]
  },
  {
   "cell_type": "code",
   "execution_count": null,
   "metadata": {},
   "outputs": [],
   "source": []
  },
  {
   "cell_type": "code",
   "execution_count": null,
   "metadata": {
    "collapsed": true
   },
   "outputs": [],
   "source": []
  }
 ],
 "metadata": {
  "kernelspec": {
   "display_name": "Python 2",
   "language": "python",
   "name": "python2"
  },
  "language_info": {
   "codemirror_mode": {
    "name": "ipython",
    "version": 2
   },
   "file_extension": ".py",
   "mimetype": "text/x-python",
   "name": "python",
   "nbconvert_exporter": "python",
   "pygments_lexer": "ipython2",
   "version": "2.7.14"
  }
 },
 "nbformat": 4,
 "nbformat_minor": 2
}
